{
 "cells": [
  {
   "cell_type": "code",
   "execution_count": 1,
   "id": "9cc6938c",
   "metadata": {},
   "outputs": [],
   "source": [
    "import pandas as pd\n",
    "import os\n",
    "from tkinter import Tk, filedialog\n",
    "\n",
    "root = Tk() # pointing root to Tk() to use it as Tk() in program.\n",
    "root.withdraw() # Hides small tkinter window.\n",
    "root.attributes('-topmost', True) # Opened windows will be active. above all windows despite of selection.\n",
    "\n",
    "direct = filedialog.askdirectory() # Returns opened path as str"
   ]
  },
  {
   "cell_type": "code",
   "execution_count": 2,
   "id": "2c303b3d",
   "metadata": {},
   "outputs": [],
   "source": [
    "def listFiles(root): # listdir\n",
    "    allFiles = []; walk = [root]\n",
    "    while walk:\n",
    "        folder = walk.pop(0)+\"/\"; items = os.listdir(folder) # items = folders + files\n",
    "        for i in items: i=folder+i; (walk if os.path.isdir(i) else allFiles).append(i)\n",
    "    return allFiles\n",
    "\n",
    "filenames = list(filter(lambda x: '_InjectionRate.csv' in x, listFiles(direct)))"
   ]
  },
  {
   "cell_type": "code",
   "execution_count": 3,
   "id": "1a5990c6",
   "metadata": {},
   "outputs": [],
   "source": [
    "summary=[]\n",
    "\n",
    "PW = [3000,2500,1500,1000,900,800,750,700,650,600,560,530,500,470,440,400,380,350,320,300,280,260,240,220,200]\n",
    "ran = range(2,len(PW)+2)\n",
    "\n",
    "pulse=dict(zip(ran,PW))\n",
    "\n",
    "dfs = {\n",
    "    pws: pd.DataFrame({'Time' : []}) # create dict with key as number of file and value of empty df\n",
    "    for pws in ran\n",
    "}\n",
    "\n",
    "for filename in filenames:\n",
    "    filenum=int(filename[-23:-19]) # get number of file (PW)\n",
    "    \n",
    "    res_df = (\n",
    "        pd.read_csv(filename,\n",
    "        sep='\\t', encoding='cp852', skiprows=[1,2]) # create data frame from file\n",
    "    )\n",
    "    \n",
    "    sn = filename[-52:-32] # get SN\n",
    "    rows=int((pulse[filenum]+1000)*1.3) # number of rows in df\n",
    "    \n",
    "    res_df=res_df[['Time','TTL','AI2']].rename(columns={'AI2': sn}).head(rows) # get specific columns\n",
    "    \n",
    "    dfs[filenum]=dfs[filenum].merge(res_df, how='outer') # merge df for the same PW"
   ]
  },
  {
   "cell_type": "code",
   "execution_count": 4,
   "id": "9a821cc2",
   "metadata": {},
   "outputs": [],
   "source": [
    "with pd.ExcelWriter(f'{direct}\\current.xlsx') as writer: # write to excel all df's\n",
    "    for pws in ran:\n",
    "        dfs[pws].to_excel(writer, sheet_name=str(pulse[pws]) , index=False) "
   ]
  },
  {
   "cell_type": "code",
   "execution_count": null,
   "id": "3bde689a",
   "metadata": {},
   "outputs": [],
   "source": []
  }
 ],
 "metadata": {
  "kernelspec": {
   "display_name": "Python 3 (ipykernel)",
   "language": "python",
   "name": "python3"
  },
  "language_info": {
   "codemirror_mode": {
    "name": "ipython",
    "version": 3
   },
   "file_extension": ".py",
   "mimetype": "text/x-python",
   "name": "python",
   "nbconvert_exporter": "python",
   "pygments_lexer": "ipython3",
   "version": "3.8.8"
  }
 },
 "nbformat": 4,
 "nbformat_minor": 5
}
